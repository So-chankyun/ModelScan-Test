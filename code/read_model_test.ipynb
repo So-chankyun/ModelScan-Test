{
 "cells": [
  {
   "cell_type": "markdown",
   "metadata": {},
   "source": [
    "## 0. Description\n",
    "- 우선 기능 단위로 만들고 하나의 모듈(클래스)로 만들어서 작동시켜보자"
   ]
  },
  {
   "cell_type": "markdown",
   "metadata": {},
   "source": [
    "## 1. Load Library"
   ]
  },
  {
   "cell_type": "code",
   "execution_count": null,
   "metadata": {},
   "outputs": [],
   "source": [
    "import os\n",
    "import sys\n",
    "import pickle\n",
    "\n",
    "from safetensors import load_file"
   ]
  },
  {
   "cell_type": "markdown",
   "metadata": {},
   "source": [
    "## 2. Convert safetensors -> pkl"
   ]
  },
  {
   "cell_type": "code",
   "execution_count": null,
   "metadata": {},
   "outputs": [
    {
     "data": {
      "text/plain": [
       "['model-00003-of-00005.safetensors',\n",
       " 'model-00002-of-00005.safetensors',\n",
       " 'model-00001-of-00005.safetensors',\n",
       " 'model-00004-of-00005.safetensors',\n",
       " 'consolidated.safetensors',\n",
       " 'model-00005-of-00005.safetensors']"
      ]
     },
     "execution_count": 5,
     "metadata": {},
     "output_type": "execute_result"
    }
   ],
   "source": [
    "BASE_PATH = \"/Users/dataeng/modelscan-test/modelscan/unscaned/3901296/request-01/model\"\n",
    "\n",
    "ext_in = 'safetensors'\n",
    "ext_out = 'pkl'\n",
    "\n",
    "MODEL_NAME = \"Mistral-Nemo-Instruct-2407\"\n",
    "\n"
   ]
  },
  {
   "cell_type": "code",
   "execution_count": null,
   "metadata": {},
   "outputs": [],
   "source": [
    "def load_model(ext_in:str,path:str):\n",
    "    tensors = None\n",
    "\n",
    "    if ext_in == 'safetensors':\n",
    "        tensors = load_file(path)\n",
    "    \n",
    "    return tensors\n",
    "\n",
    "def store_model(ext_out:str,path:str,tensors:str):\n",
    "    if ext_out == 'pickle':\n",
    "        # pickle을 사용하여 state_dict 저장\n",
    "        with open(path, 'wb') as f:\n",
    "            pickle.dump(tensors, f)\n",
    "\n",
    "def convert(base_path:str,model_name:str,file_name:str,ext_in:str, ext_out:str):\n",
    "    # 1. load model weight with ext_in extension file\n",
    "    load_model_file_path = os.path.join(base_path,ext_in,model_name,file_name)\n",
    "\n",
    "    # 각 확장자 별로 load함수를 달리 해야한다.\n",
    "    tensors = load_model(ext_in=ext_in,path=load_model_file_path)\n",
    "\n",
    "    # 2. store model weight with ext_out extension file\n",
    "    # .pkl 파일 경로 지정\n",
    "    store_model_file_name = '.'.join(model_name.split('.')[0],ext_out)\n",
    "    store_model_file_path = os.path.join(base_path,ext_out,model_name,store_model_file_name)\n",
    "\n",
    "    store_model(ext_out=ext_out,path=store_model_file_path,tensors=tensors)\n",
    "\n",
    "\n",
    "\n",
    "\n",
    "    "
   ]
  },
  {
   "cell_type": "code",
   "execution_count": null,
   "metadata": {},
   "outputs": [],
   "source": [
    "model_file_list = os.listdir(os.path.join(BASE_PATH,ext_in,MODEL_NAME))\n",
    "model_weight_file_list = [fn for fn in model_file_list if fn.endswith('.safetensors')]\n",
    "model_weight_file_list\n",
    "\n",
    "for weight in model_weight_file_list:\n",
    "    convert()"
   ]
  }
 ],
 "metadata": {
  "kernelspec": {
   "display_name": "modelscan",
   "language": "python",
   "name": "python3"
  },
  "language_info": {
   "codemirror_mode": {
    "name": "ipython",
    "version": 3
   },
   "file_extension": ".py",
   "mimetype": "text/x-python",
   "name": "python",
   "nbconvert_exporter": "python",
   "pygments_lexer": "ipython3",
   "version": "3.11.9"
  }
 },
 "nbformat": 4,
 "nbformat_minor": 2
}
